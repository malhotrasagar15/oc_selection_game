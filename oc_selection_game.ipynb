{
 "cells": [
  {
   "cell_type": "code",
   "execution_count": 1,
   "metadata": {},
   "outputs": [
    {
     "name": "stdout",
     "output_type": "stream",
     "text": [
      "Requirement already satisfied: pymupdf in e:\\study material\\phd at gaiaub\\multiplicity_and_masses_of_ocs\\oc_selection_game\\.venv\\lib\\site-packages (1.25.4)\n",
      "Requirement already satisfied: pillow in e:\\study material\\phd at gaiaub\\multiplicity_and_masses_of_ocs\\oc_selection_game\\.venv\\lib\\site-packages (11.1.0)\n",
      "Requirement already satisfied: pandas in e:\\study material\\phd at gaiaub\\multiplicity_and_masses_of_ocs\\oc_selection_game\\.venv\\lib\\site-packages (2.2.3)\n",
      "Requirement already satisfied: numpy>=1.26.0 in e:\\study material\\phd at gaiaub\\multiplicity_and_masses_of_ocs\\oc_selection_game\\.venv\\lib\\site-packages (from pandas) (2.2.4)\n",
      "Requirement already satisfied: python-dateutil>=2.8.2 in e:\\study material\\phd at gaiaub\\multiplicity_and_masses_of_ocs\\oc_selection_game\\.venv\\lib\\site-packages (from pandas) (2.9.0.post0)\n",
      "Requirement already satisfied: pytz>=2020.1 in e:\\study material\\phd at gaiaub\\multiplicity_and_masses_of_ocs\\oc_selection_game\\.venv\\lib\\site-packages (from pandas) (2025.1)\n",
      "Requirement already satisfied: tzdata>=2022.7 in e:\\study material\\phd at gaiaub\\multiplicity_and_masses_of_ocs\\oc_selection_game\\.venv\\lib\\site-packages (from pandas) (2025.1)\n",
      "Requirement already satisfied: six>=1.5 in e:\\study material\\phd at gaiaub\\multiplicity_and_masses_of_ocs\\oc_selection_game\\.venv\\lib\\site-packages (from python-dateutil>=2.8.2->pandas) (1.17.0)\n"
     ]
    }
   ],
   "source": [
    "!pip install pymupdf pillow pandas"
   ]
  },
  {
   "cell_type": "code",
   "execution_count": 6,
   "metadata": {},
   "outputs": [
    {
     "name": "stdout",
     "output_type": "stream",
     "text": [
      "First unreviewed file: e:\\study material\\PhD at GaiaUB\\Multiplicity_and_masses_of_OCs\\oc_selection_game\\oc_selection_game\\Data/Iterative_Plots_Compiled\\Alessi_2_cmd_lit_prior_final.pdf\n"
     ]
    }
   ],
   "source": [
    "!python Data\\oc_reviewer.py"
   ]
  },
  {
   "cell_type": "code",
   "execution_count": null,
   "metadata": {},
   "outputs": [],
   "source": []
  }
 ],
 "metadata": {
  "kernelspec": {
   "display_name": ".venv",
   "language": "python",
   "name": "python3"
  },
  "language_info": {
   "codemirror_mode": {
    "name": "ipython",
    "version": 3
   },
   "file_extension": ".py",
   "mimetype": "text/x-python",
   "name": "python",
   "nbconvert_exporter": "python",
   "pygments_lexer": "ipython3",
   "version": "3.12.2"
  }
 },
 "nbformat": 4,
 "nbformat_minor": 2
}
